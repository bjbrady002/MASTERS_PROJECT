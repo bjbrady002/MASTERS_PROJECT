{
 "cells": [
  {
   "cell_type": "markdown",
   "id": "a98a3283-ea40-4eb1-aafd-c0a7243c49ef",
   "metadata": {},
   "source": [
    "$$ME\\:(Mean\\:Error) = \\frac{1}{N}\\sum\\limits_{i=1}^N e_{i}$$\n",
    "\n",
    "$$MAE\\:(Mean\\:Absolute\\:Error) = \\frac{1}{N}\\sum\\limits_{i=1}^N |e_{i}|$$\n",
    "\n",
    "$$MPE\\:(Mean\\:Percentage\\:Error) = \\frac{1}{N}\\sum\\limits_{i=1}^N \\frac{e_{i}}{y_i}$$\n",
    "\n",
    "$$MAPE\\:(Mean\\:Absolute\\:Percentage\\:Error) = \\frac{1}{N}\\sum\\limits_{i=1}^N |\\frac{e_{i}}{y_i}|$$\n",
    "\n",
    "$$RMSE\\:(Root\\:Mean\\:Squared\\:Error) = \\sqrt{\\frac{1}{N}\\sum\\limits_{i=1}^N e_{i}^2}\\qquad general$$\n",
    "\n",
    "$$RMSE\\:(Root\\:Mean\\:Squared\\:Error) = \\frac{1}{N}\\sqrt{\\sum\\limits_{i=1}^N e_{i}^2}\\qquad not\\:general$$"
   ]
  },
  {
   "cell_type": "markdown",
   "id": "9cd37db9-5c85-4998-820c-5bd75bd5935e",
   "metadata": {},
   "source": []
  },
  {
   "cell_type": "markdown",
   "id": "1114da7a-f338-4510-90c5-f5500ba8f8d0",
   "metadata": {},
   "source": [
    "$$Averaging\\:Forest\\:Predictions\\: = \\hat{f}\\frac{1}{B}\\sum\\limits_{b=1}^B f_{i}(x')$$"
   ]
  },
  {
   "cell_type": "markdown",
   "id": "d7d795ef-0469-4b2d-a256-aaf99266fc1d",
   "metadata": {},
   "source": [
    "$$uncertainty: \\sigma = \\sqrt{\\frac{\\sum\\limits_{b=1}^B (f_i(x')-\\hat{f})^2}{B-1}}\\qquad$$"
   ]
  },
  {
   "cell_type": "code",
   "execution_count": null,
   "id": "8a720c04-9fb3-4422-95e0-309374633adb",
   "metadata": {},
   "outputs": [],
   "source": []
  }
 ],
 "metadata": {
  "kernelspec": {
   "display_name": "Python 3 (ipykernel)",
   "language": "python",
   "name": "python3"
  },
  "language_info": {
   "codemirror_mode": {
    "name": "ipython",
    "version": 3
   },
   "file_extension": ".py",
   "mimetype": "text/x-python",
   "name": "python",
   "nbconvert_exporter": "python",
   "pygments_lexer": "ipython3",
   "version": "3.9.12"
  }
 },
 "nbformat": 4,
 "nbformat_minor": 5
}
