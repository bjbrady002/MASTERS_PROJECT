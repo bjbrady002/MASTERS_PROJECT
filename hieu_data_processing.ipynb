{
 "cells": [
  {
   "cell_type": "code",
   "execution_count": 1,
   "id": "f7af9101",
   "metadata": {},
   "outputs": [],
   "source": [
    "import pandas as pd"
   ]
  },
  {
   "cell_type": "code",
   "execution_count": 2,
   "id": "47a22286",
   "metadata": {
    "collapsed": true
   },
   "outputs": [
    {
     "name": "stdout",
     "output_type": "stream",
     "text": [
      "Requirement already satisfied: gridstatus in /opt/anaconda3/lib/python3.9/site-packages (0.20.0)\n",
      "Requirement already satisfied: openpyxl>=3.1.0 in /opt/anaconda3/lib/python3.9/site-packages (from gridstatus) (3.1.2)\n",
      "Requirement already satisfied: requests>=2.28.1 in /opt/anaconda3/lib/python3.9/site-packages (from gridstatus) (2.28.1)\n",
      "Requirement already satisfied: tqdm>=4.64.1 in /opt/anaconda3/lib/python3.9/site-packages (from gridstatus) (4.64.1)\n",
      "Requirement already satisfied: lxml>=4.9.1 in /opt/anaconda3/lib/python3.9/site-packages (from gridstatus) (4.9.1)\n",
      "Requirement already satisfied: plotly>=5.11.0 in /opt/anaconda3/lib/python3.9/site-packages (from gridstatus) (5.14.0)\n",
      "Requirement already satisfied: tabulate>=0.8.10 in /opt/anaconda3/lib/python3.9/site-packages (from gridstatus) (0.8.10)\n",
      "Requirement already satisfied: tabula-py>=2.5.1 in /opt/anaconda3/lib/python3.9/site-packages (from gridstatus) (2.7.0)\n",
      "Requirement already satisfied: beautifulsoup4>=4.8.13 in /opt/anaconda3/lib/python3.9/site-packages (from gridstatus) (4.11.1)\n",
      "Requirement already satisfied: pandas>=1.3.0 in /opt/anaconda3/lib/python3.9/site-packages (from gridstatus) (1.4.4)\n",
      "Requirement already satisfied: soupsieve>1.2 in /opt/anaconda3/lib/python3.9/site-packages (from beautifulsoup4>=4.8.13->gridstatus) (2.3.1)\n",
      "Requirement already satisfied: et-xmlfile in /opt/anaconda3/lib/python3.9/site-packages (from openpyxl>=3.1.0->gridstatus) (1.1.0)\n",
      "Requirement already satisfied: python-dateutil>=2.8.1 in /opt/anaconda3/lib/python3.9/site-packages (from pandas>=1.3.0->gridstatus) (2.8.2)\n",
      "Requirement already satisfied: pytz>=2020.1 in /opt/anaconda3/lib/python3.9/site-packages (from pandas>=1.3.0->gridstatus) (2022.1)\n",
      "Requirement already satisfied: numpy>=1.18.5 in /opt/anaconda3/lib/python3.9/site-packages (from pandas>=1.3.0->gridstatus) (1.21.5)\n",
      "Requirement already satisfied: tenacity>=6.2.0 in /opt/anaconda3/lib/python3.9/site-packages (from plotly>=5.11.0->gridstatus) (8.0.1)\n",
      "Requirement already satisfied: packaging in /opt/anaconda3/lib/python3.9/site-packages (from plotly>=5.11.0->gridstatus) (21.3)\n",
      "Requirement already satisfied: urllib3<1.27,>=1.21.1 in /opt/anaconda3/lib/python3.9/site-packages (from requests>=2.28.1->gridstatus) (1.26.11)\n",
      "Requirement already satisfied: idna<4,>=2.5 in /opt/anaconda3/lib/python3.9/site-packages (from requests>=2.28.1->gridstatus) (3.3)\n",
      "Requirement already satisfied: charset-normalizer<3,>=2 in /opt/anaconda3/lib/python3.9/site-packages (from requests>=2.28.1->gridstatus) (2.0.4)\n",
      "Requirement already satisfied: certifi>=2017.4.17 in /opt/anaconda3/lib/python3.9/site-packages (from requests>=2.28.1->gridstatus) (2022.9.24)\n",
      "Requirement already satisfied: distro in /opt/anaconda3/lib/python3.9/site-packages (from tabula-py>=2.5.1->gridstatus) (1.8.0)\n",
      "Requirement already satisfied: six>=1.5 in /opt/anaconda3/lib/python3.9/site-packages (from python-dateutil>=2.8.1->pandas>=1.3.0->gridstatus) (1.16.0)\n",
      "Requirement already satisfied: pyparsing!=3.0.5,>=2.0.2 in /opt/anaconda3/lib/python3.9/site-packages (from packaging->plotly>=5.11.0->gridstatus) (3.0.9)\n"
     ]
    }
   ],
   "source": [
    "!pip install gridstatus"
   ]
  },
  {
   "cell_type": "code",
   "execution_count": 3,
   "id": "8933ba88",
   "metadata": {},
   "outputs": [],
   "source": [
    "import gridstatus"
   ]
  },
  {
   "cell_type": "code",
   "execution_count": 4,
   "id": "349a6d80",
   "metadata": {},
   "outputs": [],
   "source": [
    "caiso = gridstatus.CAISO()"
   ]
  },
  {
   "cell_type": "markdown",
   "id": "9a038c53",
   "metadata": {},
   "source": [
    "Historical fuel mix dataset."
   ]
  },
  {
   "cell_type": "code",
   "execution_count": null,
   "id": "362fb2bc",
   "metadata": {},
   "outputs": [
    {
     "name": "stderr",
     "output_type": "stream",
     "text": [
      " 98%|████████████████████████████████████████ | 713/729 [02:11<00:02,  5.69it/s]"
     ]
    }
   ],
   "source": [
    "start = pd.Timestamp('Jan 1, 2021').normalize()\n",
    "end = pd.Timestamp('Dec 31, 2022').normalize()\n",
    "fuel_mix_df = caiso.get_fuel_mix(start=start, end=end)\n",
    "fuel_mix_df = fuel_mix_df.drop(columns=['Interval Start', 'Interval End'])"
   ]
  },
  {
   "cell_type": "code",
   "execution_count": null,
   "id": "00015369",
   "metadata": {
    "scrolled": true
   },
   "outputs": [],
   "source": [
    "fuel_mix_df.head(25)"
   ]
  },
  {
   "cell_type": "markdown",
   "id": "48157f6f",
   "metadata": {},
   "source": [
    "Group the data into 1-hour timeframe instead of 5-min timeframe from the original dataset.<br>"
   ]
  },
  {
   "cell_type": "code",
   "execution_count": null,
   "id": "be995165",
   "metadata": {},
   "outputs": [],
   "source": [
    "# group by time, then take average value and convert to int\n",
    "fuel_mix_gp_df = fuel_mix_df.groupby([pd.Grouper(key='Time', freq='1H')])\\\n",
    "                            .mean()\\\n",
    "                            .fillna(method='ffill')\\\n",
    "                            .astype(int)\\\n",
    "                            .reset_index()"
   ]
  },
  {
   "cell_type": "code",
   "execution_count": null,
   "id": "b4f8563b",
   "metadata": {},
   "outputs": [],
   "source": [
    "fuel_mix_gp_df.head(25)"
   ]
  },
  {
   "cell_type": "markdown",
   "id": "12d313d1",
   "metadata": {},
   "source": [
    "Gas prices dataset."
   ]
  },
  {
   "cell_type": "code",
   "execution_count": null,
   "id": "0b372712",
   "metadata": {},
   "outputs": [],
   "source": [
    "start = pd.Timestamp('Jan 1, 2021').normalize()\n",
    "end = pd.Timestamp('Dec 31, 2022').normalize()\n",
    "gas_price_df = caiso.get_gas_prices(start=start, end=end, fuel_region_id='FRPGE2GHG')\n",
    "gas_price_df = gas_price_df.drop(columns=['Interval Start', 'Interval End'])"
   ]
  },
  {
   "cell_type": "code",
   "execution_count": null,
   "id": "847f0fbc",
   "metadata": {},
   "outputs": [],
   "source": [
    "gas_price_df"
   ]
  },
  {
   "cell_type": "code",
   "execution_count": null,
   "id": "46abf4fe",
   "metadata": {},
   "outputs": [],
   "source": []
  }
 ],
 "metadata": {
  "kernelspec": {
   "display_name": "Python 3 (ipykernel)",
   "language": "python",
   "name": "python3"
  },
  "language_info": {
   "codemirror_mode": {
    "name": "ipython",
    "version": 3
   },
   "file_extension": ".py",
   "mimetype": "text/x-python",
   "name": "python",
   "nbconvert_exporter": "python",
   "pygments_lexer": "ipython3",
   "version": "3.9.13"
  }
 },
 "nbformat": 4,
 "nbformat_minor": 5
}
